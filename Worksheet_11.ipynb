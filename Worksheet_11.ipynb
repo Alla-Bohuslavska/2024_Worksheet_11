{
 "cells": [
  {
   "cell_type": "markdown",
   "id": "99cdab4d-73c0-4e2f-8b68-b4806172af30",
   "metadata": {},
   "source": [
    "## Statistics 2780A - Statistical Inference ##\n",
    "## Fall 2024 #\n",
    "## Tutorial 11 #\n",
    "November 27, 2024   "
   ]
  },
  {
   "cell_type": "markdown",
   "id": "edec9c3b-33ad-41f8-bb55-dc06118ea0c8",
   "metadata": {},
   "source": [
    "1. For the test of independence and the goodness-of-fit test for categorical data, the test statistic is $\\chi^2$-distributed.    \n",
    "Using the command $\\texttt{qchisq(p, df)}$, where $\\texttt{p}$ is a probability and $\\texttt{df}$ is the number of degrees of freedom, one can determine the quantile of a $\\chi^2$ distribution with $\\texttt{df}$ degrees of freedom. Calculate the following quantiles: \n",
    "\n",
    "    1. 95-th quatile of $X\\sim \\chi^2_{11}$;\n",
    "    2. 90-th quantile of $X\\sim \\chi^2_{20}$;\n",
    "    3. 85-th quantile of $X\\sim \\chi^2_{15}$.\n",
    "\n",
    "\n",
    "   Using the command $\\texttt{pchisq(q, df}$, where $\\texttt{q}$ is a quantile and $\\texttt{df}$ is the number of degrees of freedom, one can determine the probability of a $\\chi^2$ distribution with $\\texttt{df}$ degrees of freedom. Calculate the following probabilities:\n",
    "   1. $P(X\\leq 4.325)$, for $X\\sim \\chi^2_{11}$;\n",
    "   2. $P(X\\geq 21.384)$, for $X\\sim \\chi^2_{20}$;\n",
    "   3. $P(X\\leq 15.542)$, for $X\\sim \\chi^2_{15}$.\n",
    "   \n",
    "    For each distribution, plot the corresponding distribution. You may use the following code as a  guideline:      \n",
    "    `x <- seq(0,50,0.1) # set the grid for the x-axis`     \n",
    "    `f <- dchisq(x,12) # density of chi-squared distribution with 12 degrees of freedom over the range of x`         \n",
    "    `plot(x,f, type = 'l', ylab = \"Probability\", main = \"Density of chi-squared distribution with 12 degrees of freedom\")`"
   ]
  },
  {
   "cell_type": "code",
   "execution_count": null,
   "id": "b3c3b9f6-2cb6-469d-af2f-495a15612884",
   "metadata": {
    "vscode": {
     "languageId": "r"
    }
   },
   "outputs": [],
   "source": [
    "# 1. Answer:"
   ]
  },
  {
   "cell_type": "markdown",
   "id": "694acab9-56c9-4723-99a8-5eb06c5a5c60",
   "metadata": {},
   "source": [
    "2. A computer assembling company buys all its memory cards from three manufacturers $M_1$, $M_2$, $M_3$. The quality control manager of the company decided to learn more about the quality of the memory cards purchased from the three manufacturers, and thus took a random sample of 500 cards from the shipments received from each manufacturer and classified them according to whether the card is defective or non-defective. The results are shown below.  \n",
    "\n",
    "    |  | $M_1$ | $M_2$ | $M_3$ |\n",
    "    | --- | --- | --- | --- |\n",
    "    | Defective | 32 | 52 | 28 |\n",
    "    | Nondefective | 468 | 448 | 472 |   \n",
    "    \n",
    "    Test, at the 5% level of significance, the hypothesis that the quality of the memory cards is independent of the manufacturer. Determine the critical value of the test. \n",
    "\n",
    "    You may use the function $\\texttt{chisq.test}$ to apply the $\\chi^2$ test of independence. The function takes as input the contingency table that can be created as follows:\n",
    "    `table <- matrix(c(x,y), nrow, ncol, byrow = TRUE)`   \n",
    "    where `x` and `y` are the first and the second row of the contingency table, `nrow` and `ncol` are the number of rows and the number of columns of the contingency table and the parameter `byrow` indicates whether the matrix will be filled by row ($\\texttt{TRUE}$) or columns ($\\texttt{FALSE}$).  "
   ]
  },
  {
   "cell_type": "code",
   "execution_count": null,
   "id": "bdb4e5b4-c04f-453f-b39e-cd94b7b883bf",
   "metadata": {
    "vscode": {
     "languageId": "r"
    }
   },
   "outputs": [],
   "source": [
    "# 2. Answer:"
   ]
  },
  {
   "cell_type": "markdown",
   "id": "dc26c66d",
   "metadata": {},
   "source": [
    "3. The data given below provide the frequency distribution of daily traﬃc violation tickets issued by the city police over a period of eight weeks. \n",
    "\n",
    "    | Week | 1 | 2 | 3 | 4 | 5 | 6 | 7 | 8 |\n",
    "    | --- | --- | --- | --- | --- | --- | --- | --- | --- |\n",
    "    | Violation tickets | 19 | 25 | 21 | 24 | 15 | 28 | 20 | 15 |\n",
    "\n",
    "    Test at the 5% level of significance the hypothesis that the number of traﬃc tickets is the same for each of the past eight weeks.\n",
    "\n",
    "    You may use the same function as in **Exercise 2**. However this time the inputs are the numbers of violation tickets and the hypothetical probabilities in the null hypothesis. Determine the critical value of the test. \n"
   ]
  },
  {
   "cell_type": "code",
   "execution_count": null,
   "id": "d3afa6d0-0fac-4f92-a24d-295c71397b7a",
   "metadata": {},
   "outputs": [],
   "source": []
  }
 ],
 "metadata": {
  "kernelspec": {
   "display_name": "R",
   "language": "R",
   "name": "ir"
  },
  "language_info": {
   "codemirror_mode": "r",
   "file_extension": ".r",
   "mimetype": "text/x-r-source",
   "name": "R",
   "pygments_lexer": "r",
   "version": "4.3.3"
  }
 },
 "nbformat": 4,
 "nbformat_minor": 5
}
